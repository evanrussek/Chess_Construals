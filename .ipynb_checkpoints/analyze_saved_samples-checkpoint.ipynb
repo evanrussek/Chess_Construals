{
 "cells": [
  {
   "cell_type": "markdown",
   "id": "045c74f1-d88c-48f2-8245-b50f9917855b",
   "metadata": {},
   "source": [
    "#### Analyze samples saved from generated_save_samples"
   ]
  },
  {
   "cell_type": "code",
   "execution_count": 1,
   "id": "c382cb74-20d2-4120-98c5-cb0ce36219de",
   "metadata": {},
   "outputs": [],
   "source": [
    "# load the results of the saved samples"
   ]
  },
  {
   "cell_type": "code",
   "execution_count": 1,
   "id": "762c481a-5ecc-4362-a3cf-839e138fa431",
   "metadata": {},
   "outputs": [],
   "source": [
    "import os\n",
    "import chess\n",
    "import chess.engine\n",
    "import pandas as pd\n",
    "import numpy as np\n",
    "import json\n",
    "import os \n",
    "import time\n"
   ]
  },
  {
   "cell_type": "code",
   "execution_count": 5,
   "id": "bf253904-aee3-4f74-8c9e-1054cdc82a52",
   "metadata": {},
   "outputs": [],
   "source": [
    "# order doesn't matter, so just list the result of the folder\n",
    "# SET UP PARAMETERS FOR THIS JOBS\n",
    "sample_params = {}\n",
    "sample_params['n_samples'] = 50 # 50 samples per move?\n",
    "sample_params['n_alternate_moves'] = 5\n",
    "sample_params['eval_depth_consideration'] = 13\n",
    "sample_params['eval_depth_evaluation'] = 13\n",
    "sample_params['p_drop'] = .35\n",
    "sample_params['p_move'] = 0"
   ]
  },
  {
   "cell_type": "code",
   "execution_count": 7,
   "id": "6c7316c7-06aa-45cf-a4a1-037af67d1aff",
   "metadata": {},
   "outputs": [
    {
     "data": {
      "text/plain": [
       "'/scratch/gpfs/erussek/Chess_Construals/sample_res/August_2019/n_samples-50_n_alternate_moves-5_eval_depth_consideration-13_eval_depth_evaluation-13_p_drop-0.35_p_move-0'"
      ]
     },
     "execution_count": 7,
     "metadata": {},
     "output_type": "execute_result"
    }
   ],
   "source": [
    "to_save_folder = \"/scratch/gpfs/erussek/Chess_Construals/sample_res/August_2019\"\n",
    "param_folder_name = '_'.join([f\"{key}-{value}\" for key, value in sample_params.items()])\n",
    "to_save_folder_params = os.path.join(to_save_folder, param_folder_name)\n",
    "to_save_folder_params"
   ]
  },
  {
   "cell_type": "code",
   "execution_count": 19,
   "id": "5c73a4db-3054-47a9-9388-b408beaf40af",
   "metadata": {},
   "outputs": [],
   "source": [
    "# Dictionary to store all loaded JSON data\n",
    "saved_file_names = os.listdir(to_save_folder_params)\n",
    "N_Files = len(saved_file_names)\n",
    "\n",
    "file_idx = 0\n",
    "this_file_path = os.path.join(to_save_folder_params,saved_file_names[file_idx])\n",
    "\n",
    "with open(this_file_path, 'r') as file:\n",
    "    file_data = json.load(file)\n",
    "\n",
    "\n",
    "# Iterate through all files in the folder\n",
    "#for filename in os.listdir(to_save_folder_params):\n",
    "#    if filename.endswith('.json'):\n",
    "#        file_path = os.path.join(to_save_folder_params, filename)\n",
    "#        with open(file_path, 'r') as file:\n",
    "#            # Load JSON data and store it in the dictionary\n",
    "            # Use the filename (without extension) as the key\n",
    "#            json_data = json.load(file)\n",
    "#            all_json_data[os.path.splitext(filename)[0]] = json_data"
   ]
  },
  {
   "cell_type": "code",
   "execution_count": 59,
   "id": "7749c06b-23fe-423a-add7-dd7431ccee7c",
   "metadata": {},
   "outputs": [
    {
     "data": {
      "text/plain": [
       "[9.915799850069531e-01,\n",
       " 0.9915799850069531,\n",
       " 0.2,\n",
       " 0.2,\n",
       " 0.9915799850069531,\n",
       " 0.2,\n",
       " 0.9915799850069531,\n",
       " 0.9915799850069531,\n",
       " 0.9915799850069531,\n",
       " 0.2,\n",
       " 0.9915799850069531,\n",
       " 0.9915799850069531,\n",
       " 0.9915799850069531,\n",
       " 0.2,\n",
       " 0.2,\n",
       " 0.2,\n",
       " 0.2,\n",
       " 0.9915799850069531,\n",
       " 0.9915799850069531,\n",
       " 0.9915799850069531,\n",
       " 0.2,\n",
       " 0.9915799850069531,\n",
       " 0.9915799850069531,\n",
       " 0.9915799850069531,\n",
       " 0.2,\n",
       " 0.9915799850069531,\n",
       " 0.9915799850069531,\n",
       " 0.9915799850069531,\n",
       " 0.2,\n",
       " 0.2,\n",
       " 0.2,\n",
       " 0.9915799850069531,\n",
       " 0.9915799850069531,\n",
       " 0.9915799850069531,\n",
       " 0.2,\n",
       " 0.9915799850069531,\n",
       " 0.2,\n",
       " 0.9915799850069531,\n",
       " 0.9915799850069531,\n",
       " 0.9915799850069531,\n",
       " 0.9915799850069531,\n",
       " 0.9915799850069531,\n",
       " 0.2,\n",
       " 0.9915799850069531,\n",
       " 0.9915799850069531,\n",
       " 0.9915799850069531,\n",
       " 0.9915799850069531,\n",
       " 0.2,\n",
       " 0.9915799850069531,\n",
       " 0.9915799850069531]"
      ]
     },
     "execution_count": 59,
     "metadata": {},
     "output_type": "execute_result"
    }
   ],
   "source": [
    "\n",
    "# now compute likelihood of a given cost function... \n",
    "# each index in file_data is a move\n",
    "\n",
    "# sample parameters (we'll loop through these...)\n",
    "beta_move = 500\n",
    "beta_construal = 1\n",
    "cost_per_piece = .05\n",
    "\n",
    "\n",
    "\n",
    "move_idx = 0\n",
    "sample_data = file_data[move_idx]\n",
    "U_c_i = np.array(sample_data['U_c_i']) # for each sample...\n",
    "C_c_i = cost_per_piece*np.array(sample_data['n_pieces'])\n",
    "\n",
    "p_i = np.exp(beta_construal*(U_c_i - C_c_i)) # note that if you don't combine here, but save the samples, you could fit C\n",
    "\n",
    "q_i = sample_data['q_i']\n",
    "\n",
    "w_i = p_i/q_i\n",
    "\n",
    "# now need to define comp_prob_move_g_construal...\n",
    "move_scores = np.array(sample_data['move_scores']) # N_samples X N_moves... # selected move is at position 0\n",
    "\n",
    "n_samples = move_scores.shape[0]\n",
    "\n",
    "sample_idx = 0\n",
    "np.array([np.exp(beta_move*move_scores[sample_idx,0])/np.sum(np.exp(beta_move*move_scores[sample_idx,:])) for sample_idx in range(n_samples)])\n"
   ]
  },
  {
   "cell_type": "code",
   "execution_count": 58,
   "id": "ad2c52f6-400c-4a79-9dcd-4d63e74c66f8",
   "metadata": {},
   "outputs": [
    {
     "data": {
      "text/plain": [
       "(50, 5)"
      ]
     },
     "execution_count": 58,
     "metadata": {},
     "output_type": "execute_result"
    }
   ],
   "source": [
    "move_scores.shape"
   ]
  },
  {
   "cell_type": "code",
   "execution_count": 42,
   "id": "fba00a8e-12bb-4a88-a295-857de26e0688",
   "metadata": {},
   "outputs": [
    {
     "data": {
      "text/plain": [
       "array([1.52051515, 1.52051515, 2.85714286, 2.85714286, 1.52051515,\n",
       "       2.85714286, 1.52051515, 1.52051515, 1.52051515, 2.85714286,\n",
       "       1.52051515, 1.52051515, 1.52051515, 2.85714286, 2.85714286,\n",
       "       2.85714286, 2.85714286, 1.52051515, 1.52051515, 1.52051515,\n",
       "       2.85714286, 1.52051515, 1.52051515, 1.52051515, 2.85714286,\n",
       "       1.52051515, 1.52051515, 1.52051515, 2.85714286, 2.85714286,\n",
       "       2.85714286, 1.52051515, 1.52051515, 1.52051515, 2.85714286,\n",
       "       1.52051515, 2.85714286, 1.52051515, 1.52051515, 1.52051515,\n",
       "       1.52051515, 1.52051515, 2.85714286, 1.52051515, 1.52051515,\n",
       "       1.52051515, 1.52051515, 2.85714286, 1.52051515, 1.52051515])"
      ]
     },
     "execution_count": 42,
     "metadata": {},
     "output_type": "execute_result"
    }
   ],
   "source": [
    "w_i"
   ]
  },
  {
   "cell_type": "code",
   "execution_count": 44,
   "id": "29111fea-663a-493f-89a9-6054eedf6982",
   "metadata": {},
   "outputs": [
    {
     "data": {
      "text/plain": [
       "[[0.038266274270404854, 0.028728894791997583, 0.0, 0.0, 0.0],\n",
       " [0.038266274270404854, 0.028728894791997583, 0.0, 0.0, 0.0],\n",
       " [0.5114533023854683,\n",
       "  0.5114533023854683,\n",
       "  0.5114533023854683,\n",
       "  0.5114533023854683,\n",
       "  0.5114533023854683],\n",
       " [0.5114533023854683,\n",
       "  0.5114533023854683,\n",
       "  0.5114533023854683,\n",
       "  0.5114533023854683,\n",
       "  0.5114533023854683],\n",
       " [0.038266274270404854, 0.028728894791997583, 0.0, 0.0, 0.0],\n",
       " [0.5114533023854683,\n",
       "  0.5114533023854683,\n",
       "  0.5114533023854683,\n",
       "  0.5114533023854683,\n",
       "  0.5114533023854683],\n",
       " [0.038266274270404854, 0.028728894791997583, 0.0, 0.0, 0.0],\n",
       " [0.038266274270404854, 0.028728894791997583, 0.0, 0.0, 0.0],\n",
       " [0.038266274270404854, 0.028728894791997583, 0.0, 0.0, 0.0],\n",
       " [0.5114533023854683,\n",
       "  0.5114533023854683,\n",
       "  0.5114533023854683,\n",
       "  0.5114533023854683,\n",
       "  0.5114533023854683],\n",
       " [0.038266274270404854, 0.028728894791997583, 0.0, 0.0, 0.0],\n",
       " [0.038266274270404854, 0.028728894791997583, 0.0, 0.0, 0.0],\n",
       " [0.038266274270404854, 0.028728894791997583, 0.0, 0.0, 0.0],\n",
       " [0.5114533023854683,\n",
       "  0.5114533023854683,\n",
       "  0.5114533023854683,\n",
       "  0.5114533023854683,\n",
       "  0.5114533023854683],\n",
       " [0.5114533023854683,\n",
       "  0.5114533023854683,\n",
       "  0.5114533023854683,\n",
       "  0.5114533023854683,\n",
       "  0.5114533023854683],\n",
       " [0.5114533023854683,\n",
       "  0.5114533023854683,\n",
       "  0.5114533023854683,\n",
       "  0.5114533023854683,\n",
       "  0.5114533023854683],\n",
       " [0.5114533023854683,\n",
       "  0.5114533023854683,\n",
       "  0.5114533023854683,\n",
       "  0.5114533023854683,\n",
       "  0.5114533023854683],\n",
       " [0.038266274270404854, 0.028728894791997583, 0.0, 0.0, 0.0],\n",
       " [0.038266274270404854, 0.028728894791997583, 0.0, 0.0, 0.0],\n",
       " [0.038266274270404854, 0.028728894791997583, 0.0, 0.0, 0.0],\n",
       " [0.5114533023854683,\n",
       "  0.5114533023854683,\n",
       "  0.5114533023854683,\n",
       "  0.5114533023854683,\n",
       "  0.5114533023854683],\n",
       " [0.038266274270404854, 0.028728894791997583, 0.0, 0.0, 0.0],\n",
       " [0.038266274270404854, 0.028728894791997583, 0.0, 0.0, 0.0],\n",
       " [0.038266274270404854, 0.028728894791997583, 0.0, 0.0, 0.0],\n",
       " [0.5114533023854683,\n",
       "  0.5114533023854683,\n",
       "  0.5114533023854683,\n",
       "  0.5114533023854683,\n",
       "  0.5114533023854683],\n",
       " [0.038266274270404854, 0.028728894791997583, 0.0, 0.0, 0.0],\n",
       " [0.038266274270404854, 0.028728894791997583, 0.0, 0.0, 0.0],\n",
       " [0.038266274270404854, 0.028728894791997583, 0.0, 0.0, 0.0],\n",
       " [0.5114533023854683,\n",
       "  0.5114533023854683,\n",
       "  0.5114533023854683,\n",
       "  0.5114533023854683,\n",
       "  0.5114533023854683],\n",
       " [0.5114533023854683,\n",
       "  0.5114533023854683,\n",
       "  0.5114533023854683,\n",
       "  0.5114533023854683,\n",
       "  0.5114533023854683],\n",
       " [0.5114533023854683,\n",
       "  0.5114533023854683,\n",
       "  0.5114533023854683,\n",
       "  0.5114533023854683,\n",
       "  0.5114533023854683],\n",
       " [0.038266274270404854, 0.028728894791997583, 0.0, 0.0, 0.0],\n",
       " [0.038266274270404854, 0.028728894791997583, 0.0, 0.0, 0.0],\n",
       " [0.038266274270404854, 0.028728894791997583, 0.0, 0.0, 0.0],\n",
       " [0.5114533023854683,\n",
       "  0.5114533023854683,\n",
       "  0.5114533023854683,\n",
       "  0.5114533023854683,\n",
       "  0.5114533023854683],\n",
       " [0.038266274270404854, 0.028728894791997583, 0.0, 0.0, 0.0],\n",
       " [0.5114533023854683,\n",
       "  0.5114533023854683,\n",
       "  0.5114533023854683,\n",
       "  0.5114533023854683,\n",
       "  0.5114533023854683],\n",
       " [0.038266274270404854, 0.028728894791997583, 0.0, 0.0, 0.0],\n",
       " [0.038266274270404854, 0.028728894791997583, 0.0, 0.0, 0.0],\n",
       " [0.038266274270404854, 0.028728894791997583, 0.0, 0.0, 0.0],\n",
       " [0.038266274270404854, 0.028728894791997583, 0.0, 0.0, 0.0],\n",
       " [0.038266274270404854, 0.028728894791997583, 0.0, 0.0, 0.0],\n",
       " [0.5114533023854683,\n",
       "  0.5114533023854683,\n",
       "  0.5114533023854683,\n",
       "  0.5114533023854683,\n",
       "  0.5114533023854683],\n",
       " [0.038266274270404854, 0.028728894791997583, 0.0, 0.0, 0.0],\n",
       " [0.038266274270404854, 0.028728894791997583, 0.0, 0.0, 0.0],\n",
       " [0.038266274270404854, 0.028728894791997583, 0.0, 0.0, 0.0],\n",
       " [0.038266274270404854, 0.028728894791997583, 0.0, 0.0, 0.0],\n",
       " [0.5114533023854683,\n",
       "  0.5114533023854683,\n",
       "  0.5114533023854683,\n",
       "  0.5114533023854683,\n",
       "  0.5114533023854683],\n",
       " [0.038266274270404854, 0.028728894791997583, 0.0, 0.0, 0.0],\n",
       " [0.038266274270404854, 0.028728894791997583, 0.0, 0.0, 0.0]]"
      ]
     },
     "execution_count": 44,
     "metadata": {},
     "output_type": "execute_result"
    }
   ],
   "source": [
    "sample_data['move_scores']"
   ]
  },
  {
   "cell_type": "code",
   "execution_count": 37,
   "id": "2b98db97-71d2-400f-9f92-4a229184c9f5",
   "metadata": {},
   "outputs": [
    {
     "data": {
      "text/plain": [
       "[0.65,\n",
       " 0.65,\n",
       " 0.35,\n",
       " 0.35,\n",
       " 0.65,\n",
       " 0.35,\n",
       " 0.65,\n",
       " 0.65,\n",
       " 0.65,\n",
       " 0.35,\n",
       " 0.65,\n",
       " 0.65,\n",
       " 0.65,\n",
       " 0.35,\n",
       " 0.35,\n",
       " 0.35,\n",
       " 0.35,\n",
       " 0.65,\n",
       " 0.65,\n",
       " 0.65,\n",
       " 0.35,\n",
       " 0.65,\n",
       " 0.65,\n",
       " 0.65,\n",
       " 0.35,\n",
       " 0.65,\n",
       " 0.65,\n",
       " 0.65,\n",
       " 0.35,\n",
       " 0.35,\n",
       " 0.35,\n",
       " 0.65,\n",
       " 0.65,\n",
       " 0.65,\n",
       " 0.35,\n",
       " 0.65,\n",
       " 0.35,\n",
       " 0.65,\n",
       " 0.65,\n",
       " 0.65,\n",
       " 0.65,\n",
       " 0.65,\n",
       " 0.35,\n",
       " 0.65,\n",
       " 0.65,\n",
       " 0.65,\n",
       " 0.65,\n",
       " 0.35,\n",
       " 0.65,\n",
       " 0.65]"
      ]
     },
     "execution_count": 37,
     "metadata": {},
     "output_type": "execute_result"
    }
   ],
   "source": [
    "sample_data['q_i']"
   ]
  },
  {
   "cell_type": "code",
   "execution_count": null,
   "id": "5d17e406-5470-420c-9456-512020db7ef8",
   "metadata": {},
   "outputs": [],
   "source": []
  }
 ],
 "metadata": {
  "kernelspec": {
   "display_name": "chess_project [~/.conda/envs/chess_project/]",
   "language": "python",
   "name": "conda_chess_project"
  },
  "language_info": {
   "codemirror_mode": {
    "name": "ipython",
    "version": 3
   },
   "file_extension": ".py",
   "mimetype": "text/x-python",
   "name": "python",
   "nbconvert_exporter": "python",
   "pygments_lexer": "ipython3",
   "version": "3.9.7"
  }
 },
 "nbformat": 4,
 "nbformat_minor": 5
}
