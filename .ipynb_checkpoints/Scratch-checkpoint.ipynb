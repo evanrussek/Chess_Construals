{
 "cells": [
  {
   "cell_type": "code",
   "execution_count": 6,
   "id": "ea36d43e-5528-4db2-a787-c466286d13e9",
   "metadata": {},
   "outputs": [
    {
     "name": "stdout",
     "output_type": "stream",
     "text": [
      "0 1 "
     ]
    }
   ],
   "source": [
    "%run generate_save_samples.py\n",
    "\n",
    "# add option to decide whether to save board and moves"
   ]
  },
  {
   "cell_type": "code",
   "execution_count": 2,
   "id": "371ecf9e-d655-46de-b481-4bc71896213e",
   "metadata": {},
   "outputs": [
    {
     "data": {
      "text/plain": [
       "[{'move_scores': [[0.7316370611408914,\n",
       "    0.725028614818003,\n",
       "    0.5611606022853584,\n",
       "    0.463559289900492,\n",
       "    0.44314475476294973],\n",
       "   [0.6933660290603288,\n",
       "    0.7092223791275839,\n",
       "    0.5435443913875022,\n",
       "    0.2648119578986811,\n",
       "    0.0]],\n",
       "  'n_pieces': [8.0, 10.0],\n",
       "  'q_i': [0.0013661896352685548, 0.00471196017062012],\n",
       "  'U_c_i': [0.5573186345875027, 0.5562196478940995],\n",
       "  'illegal_move': [False, False]},\n",
       " {'move_scores': [[0.0, 0.0, 0.0, 0.0, 0.0],\n",
       "   [0.5136785706163052,\n",
       "    0.5164593831988893,\n",
       "    0.5142348064034574,\n",
       "    0.5131223009447243,\n",
       "    0.512565998764761]],\n",
       "  'n_pieces': [0.0, 10.0],\n",
       "  'q_i': [0.0, 0.00471196017062012],\n",
       "  'U_c_i': [0.0, 0.45977217396262515],\n",
       "  'illegal_move': [True, False]}]"
      ]
     },
     "execution_count": 2,
     "metadata": {},
     "output_type": "execute_result"
    }
   ],
   "source": [
    "move_res"
   ]
  },
  {
   "cell_type": "code",
   "execution_count": 4,
   "id": "a06beaff-90ec-458c-8b76-da7889d9915b",
   "metadata": {},
   "outputs": [
    {
     "data": {
      "text/plain": [
       "'/scratch/gpfs/erussek/Chess_Construals/sample_res/August_2019/n_samples-2_n_alternate_moves-5_eval_depth_consideration-1_eval_depth_evaluation-1_p_drop-0.35_p_move-0'"
      ]
     },
     "execution_count": 4,
     "metadata": {},
     "output_type": "execute_result"
    }
   ],
   "source": [
    "to_save_folder_params"
   ]
  },
  {
   "cell_type": "code",
   "execution_count": 17,
   "id": "46ed9a23-06a7-4ec4-a188-e78663e72460",
   "metadata": {},
   "outputs": [],
   "source": [
    "a[0] = 'f2g1'\n",
    "a[1] = 'ffgg'"
   ]
  },
  {
   "cell_type": "code",
   "execution_count": 19,
   "id": "f79e9d81-e01d-4fc9-9ca2-388ff235788a",
   "metadata": {},
   "outputs": [
    {
     "data": {
      "text/plain": [
       "array(['f2g1', 'ffgg'], dtype='<U5')"
      ]
     },
     "execution_count": 19,
     "metadata": {},
     "output_type": "execute_result"
    }
   ],
   "source": [
    "a"
   ]
  },
  {
   "cell_type": "code",
   "execution_count": 8,
   "id": "ae429688-8727-44b6-9028-e003bc73d7b7",
   "metadata": {},
   "outputs": [
    {
     "data": {
      "text/plain": [
       "'8/8/R2p2pp/3k1p2/8/1R3P1P/2r2KP1/8 w - - 1 47'"
      ]
     },
     "execution_count": 8,
     "metadata": {},
     "output_type": "execute_result"
    }
   ],
   "source": [
    "move_res[0]['sample_fens'][0].fen()"
   ]
  },
  {
   "cell_type": "code",
   "execution_count": null,
   "id": "bbb5123b-e369-4571-ad7f-1fe78d48d58b",
   "metadata": {},
   "outputs": [],
   "source": []
  }
 ],
 "metadata": {
  "kernelspec": {
   "display_name": "Python 3 (ipykernel)",
   "language": "python",
   "name": "python3"
  },
  "language_info": {
   "codemirror_mode": {
    "name": "ipython",
    "version": 3
   },
   "file_extension": ".py",
   "mimetype": "text/x-python",
   "name": "python",
   "nbconvert_exporter": "python",
   "pygments_lexer": "ipython3",
   "version": "3.9.7"
  }
 },
 "nbformat": 4,
 "nbformat_minor": 5
}
