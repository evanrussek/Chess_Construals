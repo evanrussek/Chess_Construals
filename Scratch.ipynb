{
 "cells": [
  {
   "cell_type": "code",
   "execution_count": 1,
   "id": "ea36d43e-5528-4db2-a787-c466286d13e9",
   "metadata": {},
   "outputs": [
    {
     "name": "stdout",
     "output_type": "stream",
     "text": [
      "37 38 39 40 41 42 43 44 45 46 47 48 49 50 51 52 53 54 55 56 57 58 59 60 61 62 63 64 65 66 67 68 69 70 71 72 73 74 75 76 77 78 79 80 81 82 83 84 85 86 87 88 89 90 91 92 93 94 95 96 97 98 99 100 101 102 103 104 105 106 107 108 109 110 111 112 113 114 115 116 117 118 119 120 121 122 123 124 125 126 127 128 129 130 131 132 133 134 135 136 137 138 139 140 141 142 143 144 145 146 147 148 149 150 151 152 153 154 155 156 157 158 159 160 161 162 163 164 165 166 167 168 169 170 171 172 173 174 175 176 177 178 179 180 181 182 183 184 185 186 187 188 189 190 191 192 193 194 195 196 197 198 199 200 201 202 203 204 205 206 207 208 209 210 211 212 213 214 215 216 217 218 219 220 221 222 223 224 225 226 227 228 229 230 231 232 233 234 235 236 237 238 239 240 241 242 243 244 245 246 247 248 249 250 251 252 253 254 255 256 257 258 259 260 261 262 263 264 265 266 267 268 269 270 271 272 273 274 275 276 277 278 279 280 281 282 283 284 285 286 287 288 289 290 291 292 293 294 295 296 297 298 299 300 301 302 303 304 305 306 307 308 309 310 311 312 313 314 315 316 317 318 319 320 321 322 323 324 325 326 327 328 329 330 331 332 333 334 335 336 337 338 339 340 341 342 343 344 345 346 347 348 349 350 351 352 353 354 355 356 357 358 359 360 361 362 363 364 365 366 367 368 369 370 371 372 373 374 375 376 377 378 379 380 381 382 383 384 385 386 387 388 389 390 391 392 393 394 395 396 397 398 399 400 401 402 403 404 405 406 407 408 409 410 411 412 413 414 415 416 417 418 419 420 421 422 423 424 425 426 427 428 429 430 431 432 433 434 435 436 437 438 439 440 441 442 443 444 445 446 447 448 449 450 451 452 453 454 455 456 457 SAVING RESULTS\n",
      "script is done!\n"
     ]
    }
   ],
   "source": [
    "%run generate_save_samples.py\n",
    "\n",
    "# add option to decide whether to save board and moves"
   ]
  },
  {
   "cell_type": "code",
   "execution_count": 12,
   "id": "371ecf9e-d655-46de-b481-4bc71896213e",
   "metadata": {},
   "outputs": [
    {
     "data": {
      "text/plain": [
       "8.913944959640503"
      ]
     },
     "execution_count": 12,
     "metadata": {},
     "output_type": "execute_result"
    }
   ],
   "source": [
    "np.mean(iteration_times) # about 12 sec per move..."
   ]
  },
  {
   "cell_type": "code",
   "execution_count": 4,
   "id": "a06beaff-90ec-458c-8b76-da7889d9915b",
   "metadata": {},
   "outputs": [
    {
     "data": {
      "text/plain": [
       "'/scratch/gpfs/erussek/Chess_Construals/sample_res/August_2019/n_samples-2_n_alternate_moves-5_eval_depth_consideration-1_eval_depth_evaluation-1_p_drop-0.35_p_move-0'"
      ]
     },
     "execution_count": 4,
     "metadata": {},
     "output_type": "execute_result"
    }
   ],
   "source": [
    "to_save_folder_params"
   ]
  },
  {
   "cell_type": "code",
   "execution_count": 17,
   "id": "46ed9a23-06a7-4ec4-a188-e78663e72460",
   "metadata": {},
   "outputs": [],
   "source": [
    "a[0] = 'f2g1'\n",
    "a[1] = 'ffgg'"
   ]
  },
  {
   "cell_type": "code",
   "execution_count": 19,
   "id": "f79e9d81-e01d-4fc9-9ca2-388ff235788a",
   "metadata": {},
   "outputs": [
    {
     "data": {
      "text/plain": [
       "array(['f2g1', 'ffgg'], dtype='<U5')"
      ]
     },
     "execution_count": 19,
     "metadata": {},
     "output_type": "execute_result"
    }
   ],
   "source": [
    "a"
   ]
  },
  {
   "cell_type": "code",
   "execution_count": 8,
   "id": "ae429688-8727-44b6-9028-e003bc73d7b7",
   "metadata": {},
   "outputs": [
    {
     "data": {
      "text/plain": [
       "'8/8/R2p2pp/3k1p2/8/1R3P1P/2r2KP1/8 w - - 1 47'"
      ]
     },
     "execution_count": 8,
     "metadata": {},
     "output_type": "execute_result"
    }
   ],
   "source": [
    "move_res[0]['sample_fens'][0].fen()"
   ]
  },
  {
   "cell_type": "code",
   "execution_count": 7,
   "id": "bbb5123b-e369-4571-ad7f-1fe78d48d58b",
   "metadata": {},
   "outputs": [],
   "source": [
    "c = chess.Board()"
   ]
  },
  {
   "cell_type": "code",
   "execution_count": 8,
   "id": "4f26a4c1-7b16-4d3a-a790-8e8a10fb68d0",
   "metadata": {},
   "outputs": [
    {
     "data": {
      "text/plain": [
       "'rnbqkbnr/pppppppp/8/8/8/8/PPPPPPPP/RNBQKBNR w KQkq - 0 1'"
      ]
     },
     "execution_count": 8,
     "metadata": {},
     "output_type": "execute_result"
    }
   ],
   "source": [
    "c.fen()"
   ]
  },
  {
   "cell_type": "code",
   "execution_count": null,
   "id": "02b88ec6-cdca-4c33-b505-0fe026b667da",
   "metadata": {},
   "outputs": [],
   "source": []
  }
 ],
 "metadata": {
  "kernelspec": {
   "display_name": "Python 3 (ipykernel)",
   "language": "python",
   "name": "python3"
  },
  "language_info": {
   "codemirror_mode": {
    "name": "ipython",
    "version": 3
   },
   "file_extension": ".py",
   "mimetype": "text/x-python",
   "name": "python",
   "nbconvert_exporter": "python",
   "pygments_lexer": "ipython3",
   "version": "3.9.7"
  }
 },
 "nbformat": 4,
 "nbformat_minor": 5
}
